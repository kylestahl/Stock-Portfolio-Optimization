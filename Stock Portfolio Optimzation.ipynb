{
 "cells": [
  {
   "cell_type": "markdown",
   "metadata": {},
   "source": [
    "# Stock Portfolio Optimization\n",
    "### Convex Optimization in Python\n",
    "#### Kyle Stahl\n",
    "#### January 2018"
   ]
  },
  {
   "cell_type": "markdown",
   "metadata": {},
   "source": [
    "## __Introduction__"
   ]
  },
  {
   "cell_type": "markdown",
   "metadata": {},
   "source": [
    "Thinking about managing your own stock portfolio? This is going to illustrate how to implement the Mean-Variance portfolio theory (aka the markowitz model) in python to minimize the variance of your portfolio given a set target average return. The higher of a return you want, the higher of a risk (variance) you will need to take on. This optimization problem will find the optimal weights for each assest in the portfolio. "
   ]
  },
  {
   "cell_type": "markdown",
   "metadata": {},
   "source": [
    "This analysis will make two different optimized portfolios: one with the ability to short sell stocks, and the other without the ability to short sell. Then we will compare how both of these portfolios performed compared to the NASDAQ index over 2017. The NASDAQ increased ~27% through 2017 (https://seekingalpha.com/article/4135478-2017-nasdaq-return), which is pretty good. We set our portfolios to attempt to get a 7.0% percent return, which is the average annual return of the stock market (https://www.thesimpledollar.com/where-does-7-come-from-when-it-comes-to-long-term-stock-returns/)."
   ]
  },
  {
   "cell_type": "markdown",
   "metadata": {},
   "source": [
    "### __Import Packages__"
   ]
  },
  {
   "cell_type": "code",
   "execution_count": 1,
   "metadata": {
    "collapsed": true
   },
   "outputs": [],
   "source": [
    "import numpy as np\n",
    "import pandas as pd\n",
    "from scipy.optimize import minimize\n",
    "\n",
    "import quandl\n",
    "quandl.ApiConfig.api_key = \"FZCjpYTSpS7TQrKFZAt-\""
   ]
  },
  {
   "cell_type": "markdown",
   "metadata": {},
   "source": [
    "I used the quandl API to get the stock market data. All you need to do to use it is get a key from https://www.quandl.com/tools/python. You can also get stock market prices fairly easily from pandas-datareader, yahoo finance, and google finance. "
   ]
  },
  {
   "cell_type": "markdown",
   "metadata": {},
   "source": [
    "### __Download Stock Data__"
   ]
  },
  {
   "cell_type": "markdown",
   "metadata": {},
   "source": [
    "Here we define a list of a bunch of stock tickers to pick from to put in our portfolio."
   ]
  },
  {
   "cell_type": "code",
   "execution_count": 2,
   "metadata": {
    "collapsed": true
   },
   "outputs": [],
   "source": [
    "stocks = ['AAPL','F','TSLA','MSFT','GIS',\n",
    "          'AMZN','DIS','BBY','BA','CBS',\n",
    "          'DAL','EFX','UNH','GE','GM',\n",
    "          'HON','IBM','JNJ','NKE',\n",
    "          'SBUX','TGT','USB','VZ','WFC']\n",
    "          \n",
    "stock_prices = pd.DataFrame()"
   ]
  },
  {
   "cell_type": "markdown",
   "metadata": {},
   "source": [
    "Then we loop through that list, the grab the stock prices from 2012, and append those prices to a data frame. "
   ]
  },
  {
   "cell_type": "code",
   "execution_count": 3,
   "metadata": {
    "collapsed": true
   },
   "outputs": [],
   "source": [
    "for stock in stocks:\n",
    "    new_stock = quandl.get('WIKI/'+stock,\n",
    "    start_date=\"2012-01-01\")['Adj. Close']\n",
    "    stock_prices[stock] = new_stock"
   ]
  },
  {
   "cell_type": "code",
   "execution_count": 4,
   "metadata": {},
   "outputs": [
    {
     "data": {
      "text/html": [
       "<div>\n",
       "<style>\n",
       "    .dataframe thead tr:only-child th {\n",
       "        text-align: right;\n",
       "    }\n",
       "\n",
       "    .dataframe thead th {\n",
       "        text-align: left;\n",
       "    }\n",
       "\n",
       "    .dataframe tbody tr th {\n",
       "        vertical-align: top;\n",
       "    }\n",
       "</style>\n",
       "<table border=\"1\" class=\"dataframe\">\n",
       "  <thead>\n",
       "    <tr style=\"text-align: right;\">\n",
       "      <th></th>\n",
       "      <th>AAPL</th>\n",
       "      <th>F</th>\n",
       "      <th>TSLA</th>\n",
       "      <th>MSFT</th>\n",
       "      <th>GIS</th>\n",
       "      <th>AMZN</th>\n",
       "      <th>DIS</th>\n",
       "      <th>BBY</th>\n",
       "      <th>BA</th>\n",
       "      <th>CBS</th>\n",
       "      <th>...</th>\n",
       "      <th>GM</th>\n",
       "      <th>HON</th>\n",
       "      <th>IBM</th>\n",
       "      <th>JNJ</th>\n",
       "      <th>NKE</th>\n",
       "      <th>SBUX</th>\n",
       "      <th>TGT</th>\n",
       "      <th>USB</th>\n",
       "      <th>VZ</th>\n",
       "      <th>WFC</th>\n",
       "    </tr>\n",
       "    <tr>\n",
       "      <th>Date</th>\n",
       "      <th></th>\n",
       "      <th></th>\n",
       "      <th></th>\n",
       "      <th></th>\n",
       "      <th></th>\n",
       "      <th></th>\n",
       "      <th></th>\n",
       "      <th></th>\n",
       "      <th></th>\n",
       "      <th></th>\n",
       "      <th></th>\n",
       "      <th></th>\n",
       "      <th></th>\n",
       "      <th></th>\n",
       "      <th></th>\n",
       "      <th></th>\n",
       "      <th></th>\n",
       "      <th></th>\n",
       "      <th></th>\n",
       "      <th></th>\n",
       "      <th></th>\n",
       "    </tr>\n",
       "  </thead>\n",
       "  <tbody>\n",
       "    <tr>\n",
       "      <th>2012-01-03</th>\n",
       "      <td>52.848787</td>\n",
       "      <td>8.772734</td>\n",
       "      <td>28.08</td>\n",
       "      <td>22.792249</td>\n",
       "      <td>33.353032</td>\n",
       "      <td>179.03</td>\n",
       "      <td>35.569102</td>\n",
       "      <td>19.871853</td>\n",
       "      <td>63.682364</td>\n",
       "      <td>25.591908</td>\n",
       "      <td>...</td>\n",
       "      <td>18.035831</td>\n",
       "      <td>48.760906</td>\n",
       "      <td>157.578371</td>\n",
       "      <td>55.249240</td>\n",
       "      <td>22.505934</td>\n",
       "      <td>20.715532</td>\n",
       "      <td>43.181502</td>\n",
       "      <td>24.094526</td>\n",
       "      <td>30.588476</td>\n",
       "      <td>24.003225</td>\n",
       "    </tr>\n",
       "    <tr>\n",
       "      <th>2012-01-04</th>\n",
       "      <td>53.132802</td>\n",
       "      <td>8.906729</td>\n",
       "      <td>27.71</td>\n",
       "      <td>23.332995</td>\n",
       "      <td>33.551661</td>\n",
       "      <td>177.51</td>\n",
       "      <td>36.070468</td>\n",
       "      <td>19.494221</td>\n",
       "      <td>63.776746</td>\n",
       "      <td>26.183140</td>\n",
       "      <td>...</td>\n",
       "      <td>18.121512</td>\n",
       "      <td>48.717040</td>\n",
       "      <td>156.935540</td>\n",
       "      <td>54.913786</td>\n",
       "      <td>22.833725</td>\n",
       "      <td>21.120373</td>\n",
       "      <td>42.235428</td>\n",
       "      <td>24.085790</td>\n",
       "      <td>30.188123</td>\n",
       "      <td>24.112983</td>\n",
       "    </tr>\n",
       "    <tr>\n",
       "      <th>2012-01-05</th>\n",
       "      <td>53.722681</td>\n",
       "      <td>9.135309</td>\n",
       "      <td>27.12</td>\n",
       "      <td>23.571435</td>\n",
       "      <td>33.700632</td>\n",
       "      <td>177.61</td>\n",
       "      <td>36.673963</td>\n",
       "      <td>19.670449</td>\n",
       "      <td>63.090329</td>\n",
       "      <td>26.248832</td>\n",
       "      <td>...</td>\n",
       "      <td>18.995457</td>\n",
       "      <td>48.769679</td>\n",
       "      <td>156.191208</td>\n",
       "      <td>54.846696</td>\n",
       "      <td>22.819776</td>\n",
       "      <td>21.207288</td>\n",
       "      <td>40.976812</td>\n",
       "      <td>24.443976</td>\n",
       "      <td>29.980248</td>\n",
       "      <td>24.501357</td>\n",
       "    </tr>\n",
       "    <tr>\n",
       "      <th>2012-01-06</th>\n",
       "      <td>54.284287</td>\n",
       "      <td>9.229893</td>\n",
       "      <td>26.91</td>\n",
       "      <td>23.933352</td>\n",
       "      <td>33.415104</td>\n",
       "      <td>182.61</td>\n",
       "      <td>37.054630</td>\n",
       "      <td>20.325012</td>\n",
       "      <td>63.476439</td>\n",
       "      <td>26.079909</td>\n",
       "      <td>...</td>\n",
       "      <td>19.638064</td>\n",
       "      <td>48.409982</td>\n",
       "      <td>154.398046</td>\n",
       "      <td>54.368674</td>\n",
       "      <td>22.780255</td>\n",
       "      <td>21.371970</td>\n",
       "      <td>41.348484</td>\n",
       "      <td>24.243042</td>\n",
       "      <td>29.895558</td>\n",
       "      <td>24.433814</td>\n",
       "    </tr>\n",
       "    <tr>\n",
       "      <th>2012-01-09</th>\n",
       "      <td>54.198183</td>\n",
       "      <td>9.300832</td>\n",
       "      <td>27.25</td>\n",
       "      <td>23.622529</td>\n",
       "      <td>33.356729</td>\n",
       "      <td>178.56</td>\n",
       "      <td>36.906077</td>\n",
       "      <td>20.660685</td>\n",
       "      <td>63.948350</td>\n",
       "      <td>26.136217</td>\n",
       "      <td>...</td>\n",
       "      <td>19.569519</td>\n",
       "      <td>48.813544</td>\n",
       "      <td>153.594506</td>\n",
       "      <td>54.452537</td>\n",
       "      <td>22.863946</td>\n",
       "      <td>21.312501</td>\n",
       "      <td>41.027495</td>\n",
       "      <td>24.671118</td>\n",
       "      <td>29.926756</td>\n",
       "      <td>24.737759</td>\n",
       "    </tr>\n",
       "  </tbody>\n",
       "</table>\n",
       "<p>5 rows × 24 columns</p>\n",
       "</div>"
      ],
      "text/plain": [
       "                 AAPL         F   TSLA       MSFT        GIS    AMZN  \\\n",
       "Date                                                                   \n",
       "2012-01-03  52.848787  8.772734  28.08  22.792249  33.353032  179.03   \n",
       "2012-01-04  53.132802  8.906729  27.71  23.332995  33.551661  177.51   \n",
       "2012-01-05  53.722681  9.135309  27.12  23.571435  33.700632  177.61   \n",
       "2012-01-06  54.284287  9.229893  26.91  23.933352  33.415104  182.61   \n",
       "2012-01-09  54.198183  9.300832  27.25  23.622529  33.356729  178.56   \n",
       "\n",
       "                  DIS        BBY         BA        CBS    ...             GM  \\\n",
       "Date                                                      ...                  \n",
       "2012-01-03  35.569102  19.871853  63.682364  25.591908    ...      18.035831   \n",
       "2012-01-04  36.070468  19.494221  63.776746  26.183140    ...      18.121512   \n",
       "2012-01-05  36.673963  19.670449  63.090329  26.248832    ...      18.995457   \n",
       "2012-01-06  37.054630  20.325012  63.476439  26.079909    ...      19.638064   \n",
       "2012-01-09  36.906077  20.660685  63.948350  26.136217    ...      19.569519   \n",
       "\n",
       "                  HON         IBM        JNJ        NKE       SBUX        TGT  \\\n",
       "Date                                                                            \n",
       "2012-01-03  48.760906  157.578371  55.249240  22.505934  20.715532  43.181502   \n",
       "2012-01-04  48.717040  156.935540  54.913786  22.833725  21.120373  42.235428   \n",
       "2012-01-05  48.769679  156.191208  54.846696  22.819776  21.207288  40.976812   \n",
       "2012-01-06  48.409982  154.398046  54.368674  22.780255  21.371970  41.348484   \n",
       "2012-01-09  48.813544  153.594506  54.452537  22.863946  21.312501  41.027495   \n",
       "\n",
       "                  USB         VZ        WFC  \n",
       "Date                                         \n",
       "2012-01-03  24.094526  30.588476  24.003225  \n",
       "2012-01-04  24.085790  30.188123  24.112983  \n",
       "2012-01-05  24.443976  29.980248  24.501357  \n",
       "2012-01-06  24.243042  29.895558  24.433814  \n",
       "2012-01-09  24.671118  29.926756  24.737759  \n",
       "\n",
       "[5 rows x 24 columns]"
      ]
     },
     "execution_count": 4,
     "metadata": {},
     "output_type": "execute_result"
    }
   ],
   "source": [
    "stock_prices.head(5)"
   ]
  },
  {
   "cell_type": "markdown",
   "metadata": {},
   "source": [
    "Then we are going to split the stock prices into two sets. The _train_ set will be used to find the optimal weights, and the _test_ set will be used to test and see how the portfolio performed based off of the weights decided by the markowitz model."
   ]
  },
  {
   "cell_type": "markdown",
   "metadata": {},
   "source": [
    "For the markowitz optimization model, we are trying to minimize the variance of *__returns__*... not of stock prices. We will use the `pct_change()` method to find the returns for each day."
   ]
  },
  {
   "cell_type": "code",
   "execution_count": 5,
   "metadata": {
    "collapsed": true
   },
   "outputs": [],
   "source": [
    "train = stock_prices[stock_prices.index < '2017-01-01']\n",
    "test = stock_prices[stock_prices.index >= '2017-01-01']"
   ]
  },
  {
   "cell_type": "markdown",
   "metadata": {},
   "source": [
    "*__For day i...__*\n",
    "$$Return_i = \\frac{Price_i}{Price_{i-1}} \\qquad \\qquad Pct. Change = \\frac{Price_i - Price_{i-1}}{Price_{i-1}}\n",
    "\\qquad \\Rightarrow \\qquad Return_i = Pct. Change + 1$$"
   ]
  },
  {
   "cell_type": "code",
   "execution_count": 6,
   "metadata": {},
   "outputs": [
    {
     "data": {
      "text/html": [
       "<div>\n",
       "<style>\n",
       "    .dataframe thead tr:only-child th {\n",
       "        text-align: right;\n",
       "    }\n",
       "\n",
       "    .dataframe thead th {\n",
       "        text-align: left;\n",
       "    }\n",
       "\n",
       "    .dataframe tbody tr th {\n",
       "        vertical-align: top;\n",
       "    }\n",
       "</style>\n",
       "<table border=\"1\" class=\"dataframe\">\n",
       "  <thead>\n",
       "    <tr style=\"text-align: right;\">\n",
       "      <th></th>\n",
       "      <th>AAPL</th>\n",
       "      <th>F</th>\n",
       "      <th>TSLA</th>\n",
       "      <th>MSFT</th>\n",
       "      <th>GIS</th>\n",
       "      <th>AMZN</th>\n",
       "      <th>DIS</th>\n",
       "      <th>BBY</th>\n",
       "      <th>BA</th>\n",
       "      <th>CBS</th>\n",
       "      <th>...</th>\n",
       "      <th>GM</th>\n",
       "      <th>HON</th>\n",
       "      <th>IBM</th>\n",
       "      <th>JNJ</th>\n",
       "      <th>NKE</th>\n",
       "      <th>SBUX</th>\n",
       "      <th>TGT</th>\n",
       "      <th>USB</th>\n",
       "      <th>VZ</th>\n",
       "      <th>WFC</th>\n",
       "    </tr>\n",
       "    <tr>\n",
       "      <th>Date</th>\n",
       "      <th></th>\n",
       "      <th></th>\n",
       "      <th></th>\n",
       "      <th></th>\n",
       "      <th></th>\n",
       "      <th></th>\n",
       "      <th></th>\n",
       "      <th></th>\n",
       "      <th></th>\n",
       "      <th></th>\n",
       "      <th></th>\n",
       "      <th></th>\n",
       "      <th></th>\n",
       "      <th></th>\n",
       "      <th></th>\n",
       "      <th></th>\n",
       "      <th></th>\n",
       "      <th></th>\n",
       "      <th></th>\n",
       "      <th></th>\n",
       "      <th></th>\n",
       "    </tr>\n",
       "  </thead>\n",
       "  <tbody>\n",
       "    <tr>\n",
       "      <th>2012-01-04</th>\n",
       "      <td>1.005374</td>\n",
       "      <td>1.015274</td>\n",
       "      <td>0.986823</td>\n",
       "      <td>1.023725</td>\n",
       "      <td>1.005955</td>\n",
       "      <td>0.991510</td>\n",
       "      <td>1.014096</td>\n",
       "      <td>0.980997</td>\n",
       "      <td>1.001482</td>\n",
       "      <td>1.023102</td>\n",
       "      <td>...</td>\n",
       "      <td>1.004751</td>\n",
       "      <td>0.999100</td>\n",
       "      <td>0.995921</td>\n",
       "      <td>0.993928</td>\n",
       "      <td>1.014565</td>\n",
       "      <td>1.019543</td>\n",
       "      <td>0.978091</td>\n",
       "      <td>0.999637</td>\n",
       "      <td>0.986912</td>\n",
       "      <td>1.004573</td>\n",
       "    </tr>\n",
       "    <tr>\n",
       "      <th>2012-01-05</th>\n",
       "      <td>1.011102</td>\n",
       "      <td>1.025664</td>\n",
       "      <td>0.978708</td>\n",
       "      <td>1.010219</td>\n",
       "      <td>1.004440</td>\n",
       "      <td>1.000563</td>\n",
       "      <td>1.016731</td>\n",
       "      <td>1.009040</td>\n",
       "      <td>0.989237</td>\n",
       "      <td>1.002509</td>\n",
       "      <td>...</td>\n",
       "      <td>1.048227</td>\n",
       "      <td>1.001080</td>\n",
       "      <td>0.995257</td>\n",
       "      <td>0.998778</td>\n",
       "      <td>0.999389</td>\n",
       "      <td>1.004115</td>\n",
       "      <td>0.970200</td>\n",
       "      <td>1.014871</td>\n",
       "      <td>0.993114</td>\n",
       "      <td>1.016106</td>\n",
       "    </tr>\n",
       "    <tr>\n",
       "      <th>2012-01-06</th>\n",
       "      <td>1.010454</td>\n",
       "      <td>1.010354</td>\n",
       "      <td>0.992257</td>\n",
       "      <td>1.015354</td>\n",
       "      <td>0.991528</td>\n",
       "      <td>1.028152</td>\n",
       "      <td>1.010380</td>\n",
       "      <td>1.033276</td>\n",
       "      <td>1.006120</td>\n",
       "      <td>0.993565</td>\n",
       "      <td>...</td>\n",
       "      <td>1.033829</td>\n",
       "      <td>0.992625</td>\n",
       "      <td>0.988519</td>\n",
       "      <td>0.991284</td>\n",
       "      <td>0.998268</td>\n",
       "      <td>1.007765</td>\n",
       "      <td>1.009070</td>\n",
       "      <td>0.991780</td>\n",
       "      <td>0.997175</td>\n",
       "      <td>0.997243</td>\n",
       "    </tr>\n",
       "    <tr>\n",
       "      <th>2012-01-09</th>\n",
       "      <td>0.998414</td>\n",
       "      <td>1.007686</td>\n",
       "      <td>1.012635</td>\n",
       "      <td>0.987013</td>\n",
       "      <td>0.998253</td>\n",
       "      <td>0.977822</td>\n",
       "      <td>0.995991</td>\n",
       "      <td>1.016515</td>\n",
       "      <td>1.007434</td>\n",
       "      <td>1.002159</td>\n",
       "      <td>...</td>\n",
       "      <td>0.996510</td>\n",
       "      <td>1.008336</td>\n",
       "      <td>0.994796</td>\n",
       "      <td>1.001542</td>\n",
       "      <td>1.003674</td>\n",
       "      <td>0.997217</td>\n",
       "      <td>0.992237</td>\n",
       "      <td>1.017658</td>\n",
       "      <td>1.001044</td>\n",
       "      <td>1.012440</td>\n",
       "    </tr>\n",
       "    <tr>\n",
       "      <th>2012-01-10</th>\n",
       "      <td>1.003580</td>\n",
       "      <td>1.000000</td>\n",
       "      <td>1.013578</td>\n",
       "      <td>1.003605</td>\n",
       "      <td>1.008250</td>\n",
       "      <td>1.004368</td>\n",
       "      <td>0.996981</td>\n",
       "      <td>1.004062</td>\n",
       "      <td>1.006306</td>\n",
       "      <td>1.027289</td>\n",
       "      <td>...</td>\n",
       "      <td>1.017513</td>\n",
       "      <td>1.016894</td>\n",
       "      <td>0.998458</td>\n",
       "      <td>1.004158</td>\n",
       "      <td>1.001220</td>\n",
       "      <td>1.004937</td>\n",
       "      <td>1.004530</td>\n",
       "      <td>1.000708</td>\n",
       "      <td>1.005212</td>\n",
       "      <td>1.003754</td>\n",
       "    </tr>\n",
       "  </tbody>\n",
       "</table>\n",
       "<p>5 rows × 24 columns</p>\n",
       "</div>"
      ],
      "text/plain": [
       "                AAPL         F      TSLA      MSFT       GIS      AMZN  \\\n",
       "Date                                                                     \n",
       "2012-01-04  1.005374  1.015274  0.986823  1.023725  1.005955  0.991510   \n",
       "2012-01-05  1.011102  1.025664  0.978708  1.010219  1.004440  1.000563   \n",
       "2012-01-06  1.010454  1.010354  0.992257  1.015354  0.991528  1.028152   \n",
       "2012-01-09  0.998414  1.007686  1.012635  0.987013  0.998253  0.977822   \n",
       "2012-01-10  1.003580  1.000000  1.013578  1.003605  1.008250  1.004368   \n",
       "\n",
       "                 DIS       BBY        BA       CBS    ...           GM  \\\n",
       "Date                                                  ...                \n",
       "2012-01-04  1.014096  0.980997  1.001482  1.023102    ...     1.004751   \n",
       "2012-01-05  1.016731  1.009040  0.989237  1.002509    ...     1.048227   \n",
       "2012-01-06  1.010380  1.033276  1.006120  0.993565    ...     1.033829   \n",
       "2012-01-09  0.995991  1.016515  1.007434  1.002159    ...     0.996510   \n",
       "2012-01-10  0.996981  1.004062  1.006306  1.027289    ...     1.017513   \n",
       "\n",
       "                 HON       IBM       JNJ       NKE      SBUX       TGT  \\\n",
       "Date                                                                     \n",
       "2012-01-04  0.999100  0.995921  0.993928  1.014565  1.019543  0.978091   \n",
       "2012-01-05  1.001080  0.995257  0.998778  0.999389  1.004115  0.970200   \n",
       "2012-01-06  0.992625  0.988519  0.991284  0.998268  1.007765  1.009070   \n",
       "2012-01-09  1.008336  0.994796  1.001542  1.003674  0.997217  0.992237   \n",
       "2012-01-10  1.016894  0.998458  1.004158  1.001220  1.004937  1.004530   \n",
       "\n",
       "                 USB        VZ       WFC  \n",
       "Date                                      \n",
       "2012-01-04  0.999637  0.986912  1.004573  \n",
       "2012-01-05  1.014871  0.993114  1.016106  \n",
       "2012-01-06  0.991780  0.997175  0.997243  \n",
       "2012-01-09  1.017658  1.001044  1.012440  \n",
       "2012-01-10  1.000708  1.005212  1.003754  \n",
       "\n",
       "[5 rows x 24 columns]"
      ]
     },
     "execution_count": 6,
     "metadata": {},
     "output_type": "execute_result"
    }
   ],
   "source": [
    "returns = train.pct_change()\n",
    "returns = returns.iloc[1:] # Day 1 does not have a return so we remove it from the dataframe\n",
    "returns = returns + 1\n",
    "returns.head(5)"
   ]
  },
  {
   "cell_type": "markdown",
   "metadata": {},
   "source": [
    "### __Initialize Parameters__"
   ]
  },
  {
   "cell_type": "markdown",
   "metadata": {},
   "source": [
    "This is the optimization problem that we want to solve. We want to minimize the projected variance ($\\Sigma$) of the portfolio for a given projected return ($\\mu$). The portfolio weights must sum up to 1. And for this problem we will say all of the weights must be greater than 0 (this is the function equivalent to not allowing short selling, we will relax this later). As stated above we are aiming for a 7% return for the year, we need to find the daily return needed to hit that mark and set that as $\\mu$."
   ]
  },
  {
   "cell_type": "markdown",
   "metadata": {},
   "source": [
    "- $w$ = **_vector of weights of each stock_**\n",
    "- $r$ = **_vector of mean returns for each stock_**\n",
    "- $\\Sigma$ = **_Covariance matrix of stock returns_**\n",
    "- $e$ = **_vector of 1s_**\n",
    "\n"
   ]
  },
  {
   "cell_type": "markdown",
   "metadata": {},
   "source": [
    "\\begin{align}\n",
    "minimize \\qquad w^T\\Sigma w \\qquad \\qquad \\qquad \\\\\n",
    "subject\\ to\\qquad \\qquad \\qquad \\qquad \\qquad \\\\ \n",
    "r^T w = \\mu \\qquad \\qquad \\quad  \\\\\n",
    "e^T w = 1 \\qquad \\qquad \\quad \\\\\n",
    "w \\ge 0 \\quad\\forall \\ i \\qquad \\qquad \n",
    "\\end{align}"
   ]
  },
  {
   "cell_type": "code",
   "execution_count": 7,
   "metadata": {
    "collapsed": true
   },
   "outputs": [],
   "source": [
    "# Mean return for each stock (in array)\n",
    "r = np.array(np.mean(returns, axis=0))\n",
    "\n",
    "# Covariance matrix between stocks (in array)\n",
    "S = np.array(returns.cov())\n",
    "\n",
    "# Vector of 1's equal in length to r\n",
    "e = np.ones(len(r))\n",
    "\n",
    "# Set the projected mean return for the portfolio\n",
    "mu = 1+(0.07/252) # 7% rate annually per day"
   ]
  },
  {
   "cell_type": "markdown",
   "metadata": {},
   "source": [
    "### __Define Optimization Problem__"
   ]
  },
  {
   "cell_type": "markdown",
   "metadata": {},
   "source": [
    "Here we define the objective function that we want to minimize (variance of the portfolio). Here is a quick rundown on how the variance is calculated. https://www.investopedia.com/ask/answers/071515/how-can-i-measure-portfolio-variance.asp. The we initialize the weights of the portfolio randomly, so that we have a python array for the values."
   ]
  },
  {
   "cell_type": "markdown",
   "metadata": {},
   "source": [
    "$$Variance = \\sum_{j=1}^{n}\\sum_{i=1}^{n} \\sigma_{i,j} w_i w_j \\quad \\forall \\ i,j \\in \\ set \\ of \\ stocks$$"
   ]
  },
  {
   "cell_type": "code",
   "execution_count": 8,
   "metadata": {
    "collapsed": true
   },
   "outputs": [],
   "source": [
    "def objective(w):\n",
    "    return np.matmul(np.matmul(w,S),w)\n",
    "\n",
    "# Set initial weight values\n",
    "w = np.random.random(len(r))"
   ]
  },
  {
   "cell_type": "markdown",
   "metadata": {},
   "source": [
    "Now we define the constraints for the optimization problem. It could happen that all the weights are set to be 0, then the variance of returns would also be 0. Our constraints are inplace to prevent this. The SciPy convex optimization solver accepts a tuple of dictionary constraints, which can be kinda complicated to think about so take a second to look what is going on.     \n",
    "\n",
    "We specify the type of constraint, `ineq` for $\\ge$ and `eq` for =. The inequality is automatically $\\ge$ because it is a minimization problem. There is a little more to it than that, but that is beyond the scope of this analysis. Here is the documentation of how the SciPy minimize function: https://docs.scipy.org/doc/scipy/reference/generated/scipy.optimize.minimize.html. And some information on optimization problems in general: https://www.math.ucla.edu/~tom/LP.pdf"
   ]
  },
  {
   "cell_type": "markdown",
   "metadata": {},
   "source": [
    "For the non-negativity constraints, we can specify the `bounds` arugment of the `minimize` function. This argument will take a tuple that is the same length of the number of deicision variables. Each element of that tuple, will be another tuple of length 2: with the lower and upper bounds for each decision variable. So we have a tuple of dictionaries for the constraints, and a tuple of tuples for the variable bounds."
   ]
  },
  {
   "cell_type": "markdown",
   "metadata": {},
   "source": [
    "$$Returns:\\qquad \\sum_{i=1}^{n}w_ir_i \\ge \\mu$$"
   ]
  },
  {
   "cell_type": "markdown",
   "metadata": {},
   "source": [
    "$$\\quad \\quad Weights\\ sum\\ to\\ 1:\\quad \\quad \\sum_{i=1}^{n} w_i = 1.0\\qquad \\qquad$$ "
   ]
  },
  {
   "cell_type": "markdown",
   "metadata": {},
   "source": [
    "$$\\qquad \\qquad \\qquad \\qquad Bounds:\\quad  0\\ \\le \\ w_i\\ \\le \\ \\infty \\qquad \\forall \\ i \\in \\ set \\ of \\ stocks$$"
   ]
  },
  {
   "cell_type": "code",
   "execution_count": 9,
   "metadata": {
    "collapsed": true
   },
   "outputs": [],
   "source": [
    "# Define Constraints\n",
    "const = ({'type' : 'ineq' , 'fun' : lambda w: np.dot(w,r) - mu}, # returns - mu >= 0\n",
    "         {'type' : 'eq' , 'fun' : lambda w: np.dot(w,e) - 1})    # sum(w) - 1 = 0\n",
    "\n",
    "# Create Bounds\n",
    "# Creates a tuple of tuples to pass to minimize\n",
    "# to ensure all weights are betwen [0, inf]\n",
    "non_neg = []\n",
    "for i in range(len(r)):\n",
    "    non_neg.append((0,None))\n",
    "non_neg = tuple(non_neg)"
   ]
  },
  {
   "cell_type": "markdown",
   "metadata": {},
   "source": [
    "Next step is to solve the Linear Program. The attributes of the optimization program are saved in the varaible named `solution`. And `solution.x` has the weights for each stock. We print out the weights and make sure they sum to 1. As you can see, not all of the stocks need to be invested in. This could be because stock returns can sometimes be exteremly co-linear, therefore buying some stocks that are very similar can be redundant. Then we print out the names of the stocks that the algorithm chose to buy."
   ]
  },
  {
   "cell_type": "code",
   "execution_count": 10,
   "metadata": {},
   "outputs": [
    {
     "name": "stdout",
     "output_type": "stream",
     "text": [
      "[ 0.        0.088038  0.        0.        0.        0.        0.        0.\n",
      "  0.266363  0.250938  0.        0.023051  0.113207  0.        0.        0.019733\n",
      "  0.        0.        0.        0.23867   0.        0.        0.        0.      ]\n",
      "1.0\n",
      "['F', 'BA', 'CBS', 'EFX', 'UNH', 'HON', 'SBUX']\n"
     ]
    },
    {
     "name": "stderr",
     "output_type": "stream",
     "text": [
      "C:\\Users\\kyles\\.conda\\envs\\Python2\\lib\\site-packages\\scipy\\optimize\\slsqp.py:341: RuntimeWarning: invalid value encountered in greater\n",
      "  bnderr = bnds[:, 0] > bnds[:, 1]\n"
     ]
    }
   ],
   "source": [
    "# Run optimization with SLSQP solver\n",
    "solution = minimize(fun=objective, x0=w, method='SLSQP',constraints=const,bounds=non_neg)\n",
    "w = solution.x.round(6)\n",
    "print w\n",
    "print w.sum()\n",
    "print list(returns.columns[w > 0.0])"
   ]
  },
  {
   "cell_type": "markdown",
   "metadata": {},
   "source": [
    "Now we will invest \\$100,000 in this portfolio for the prices at January 1st, 2017, and track how it performed over the year."
   ]
  },
  {
   "cell_type": "code",
   "execution_count": 11,
   "metadata": {
    "collapsed": true
   },
   "outputs": [],
   "source": [
    "# Invest $100,000 on Jan. 1st 2017\n",
    "num_shares = w * 100000 / test.iloc[0,]\n",
    "np.dot(num_shares, test.iloc[0,])\n",
    "no_short = test.dot(num_shares)"
   ]
  },
  {
   "cell_type": "markdown",
   "metadata": {},
   "source": [
    "If we relax the bounds of the weights and allow them to be negative (and have the ability to short sell stocks), this optimization problem has a closed form solution that can be found using Lagrangian Multipliers and KKT conditions. It is out of scope to deep dive into the mathematics of non-linear optimization problems, but if you want to learn more wikipedia is an good place to start:   \n",
    "(https://en.wikipedia.org/wiki/Lagrange_multiplier)       \n",
    "(https://en.wikipedia.org/wiki/Karush%E2%80%93Kuhn%E2%80%93Tucker_conditions)       \n",
    "(https://www.math.ust.hk/~maykwok/courses/ma362/Topic2.pdf).        \n",
    "We are going to add the following constraint as an optimality condition using the lagrange multipliers: this will allow us to find the closed form solution for `w`."
   ]
  },
  {
   "cell_type": "markdown",
   "metadata": {},
   "source": [
    "$$Optimality\\ Condition:\\qquad \\sum_{j=1}^{n} \\sigma_{ij} w_j\\ -\\ \\lambda_1\\ -\\ \\lambda_2 \\overline{R}_i \\quad \\forall \\ i \\ \\in 1...n$$"
   ]
  },
  {
   "cell_type": "markdown",
   "metadata": {},
   "source": [
    "<h2><center><u>Vectorized closed form solution</u></center></h2>"
   ]
  },
  {
   "cell_type": "markdown",
   "metadata": {},
   "source": [
    "$$w=\\lambda_1 \\Sigma^{-1} \\overline{r}\\ +\\ \\lambda_2 \\Sigma^{-1} e$$"
   ]
  },
  {
   "cell_type": "markdown",
   "metadata": {},
   "source": [
    "$$where:\\qquad \\lambda_1 = \\frac{c\\mu - b}{ac - b^2} \\qquad  \\lambda_2 = \\frac{-b\\mu + a}{ac - b^2} \\qquad$$"
   ]
  },
  {
   "cell_type": "markdown",
   "metadata": {},
   "source": [
    "$$and: \\qquad a=\\overline{r}^{\\ \\ T}\\Sigma^{-1}\\overline{r} \\qquad b=\\overline{r}^{\\ \\ T}\\Sigma^{-1}e \\qquad c=e^{\\ T}\\Sigma^{-1}e$$"
   ]
  },
  {
   "cell_type": "code",
   "execution_count": 12,
   "metadata": {},
   "outputs": [
    {
     "name": "stdout",
     "output_type": "stream",
     "text": [
      "[ 0.04458599  0.06738652 -0.02410659 -0.04251122  0.25483255 -0.02965159\n",
      "  0.00375714 -0.0071139  -0.01019564 -0.01283482 -0.05897875 -0.0154145\n",
      "  0.00708143  0.00289147 -0.01635133 -0.06764975  0.18989133  0.29394998\n",
      "  0.04803156  0.01442399  0.12106522  0.09634878  0.1944815  -0.05391938]\n",
      "0.99999999986\n",
      "['AAPL', 'F', 'TSLA', 'MSFT', 'GIS', 'AMZN', 'DIS', 'BBY', 'BA', 'CBS', 'DAL', 'EFX', 'UNH', 'GE', 'GM', 'HON', 'IBM', 'JNJ', 'NKE', 'SBUX', 'TGT', 'USB', 'VZ', 'WFC']\n"
     ]
    }
   ],
   "source": [
    "# Mean return for each stock (in array)\n",
    "r = np.array(np.mean(returns, axis=0))\n",
    "\n",
    "# Covariance matrix between stocks (in array)\n",
    "S = np.array(returns.cov())\n",
    "\n",
    "# Inverse of the covariance matrix\n",
    "Si = np.linalg.inv(S)\n",
    "\n",
    "# Vector of 1's equal in length to r\n",
    "e = np.ones(len(r))\n",
    "\n",
    "# a, b, c coefficients\n",
    "a = np.matmul(np.matmul(r,Si),r)\n",
    "b = np.matmul(np.matmul(r,Si),e)\n",
    "c = np.matmul(np.matmul(e,Si),e) # same as Si.sum()\n",
    "\n",
    "# Lambda1 and Lambda2 coefficients\n",
    "l1 = (c*mu - b) / (a*c - b*b)\n",
    "l2 = (-b*mu + a) / (a*c - b*b)\n",
    "\n",
    "# Calculate weights\n",
    "w = l1*(np.matmul(Si,r)) + l2*(np.matmul(Si,e))\n",
    "print w\n",
    "print w.sum()\n",
    "print list(returns.columns[w != 0.0])\n"
   ]
  },
  {
   "cell_type": "code",
   "execution_count": 13,
   "metadata": {
    "collapsed": true
   },
   "outputs": [],
   "source": [
    "# Invest $100,000 on Jan. 1st 2017\n",
    "num_shares = w * 100000 / test.iloc[0,]\n",
    "np.dot(num_shares, test.iloc[0,])\n",
    "short_sell = test.dot(num_shares)"
   ]
  },
  {
   "cell_type": "markdown",
   "metadata": {},
   "source": [
    "### __Compare against market index__"
   ]
  },
  {
   "cell_type": "code",
   "execution_count": 14,
   "metadata": {
    "collapsed": true
   },
   "outputs": [],
   "source": [
    "# Get Market Index\n",
    "Market = quandl.get(\"NASDAQOMX/COMP\", start_date=\"2017-01-01\")[\"Index Value\"]\n",
    "\n",
    "# Invest $100,000 on Jan. 1st 2017\n",
    "market_shares = 100000 / Market.iloc[0,]\n",
    "Market_Overall = Market * market_shares\n",
    "\n",
    "# Combine portfolios into one dataframe\n",
    "portfolio = pd.DataFrame({'Short Sell' : short_sell, 'Cannot Short':no_short})\n",
    "portfolio = portfolio.join(Market_Overall)\n",
    "portfolio.rename(columns={'Index Value':'Market Value'},inplace=True)"
   ]
  },
  {
   "cell_type": "markdown",
   "metadata": {},
   "source": [
    "### __Evaluate Results__"
   ]
  },
  {
   "cell_type": "code",
   "execution_count": 15,
   "metadata": {},
   "outputs": [
    {
     "data": {
      "text/plain": [
       "<matplotlib.axes._subplots.AxesSubplot at 0xa904b00>"
      ]
     },
     "execution_count": 15,
     "metadata": {},
     "output_type": "execute_result"
    },
    {
     "data": {
      "image/png": "[encoded data removed]",
      "text/plain": [
       "<matplotlib.figure.Figure at 0xa904320>"
      ]
     },
     "metadata": {},
     "output_type": "display_data"
    }
   ],
   "source": [
    "#Plot Results\n",
    "%matplotlib inline\n",
    "portfolio.plot(kind='line')"
   ]
  },
  {
   "cell_type": "code",
   "execution_count": 16,
   "metadata": {},
   "outputs": [
    {
     "data": {
      "text/html": [
       "<div>\n",
       "<style>\n",
       "    .dataframe thead tr:only-child th {\n",
       "        text-align: right;\n",
       "    }\n",
       "\n",
       "    .dataframe thead th {\n",
       "        text-align: left;\n",
       "    }\n",
       "\n",
       "    .dataframe tbody tr th {\n",
       "        vertical-align: top;\n",
       "    }\n",
       "</style>\n",
       "<table border=\"1\" class=\"dataframe\">\n",
       "  <thead>\n",
       "    <tr style=\"text-align: right;\">\n",
       "      <th></th>\n",
       "      <th>Overall Return</th>\n",
       "      <th>Mean Daily Return</th>\n",
       "      <th>Variance Daily Return</th>\n",
       "    </tr>\n",
       "  </thead>\n",
       "  <tbody>\n",
       "    <tr>\n",
       "      <th>Cannot Short</th>\n",
       "      <td>1.394494</td>\n",
       "      <td>1.001316</td>\n",
       "      <td>0.000044</td>\n",
       "    </tr>\n",
       "    <tr>\n",
       "      <th>Market Value</th>\n",
       "      <td>1.337438</td>\n",
       "      <td>1.001150</td>\n",
       "      <td>0.000037</td>\n",
       "    </tr>\n",
       "    <tr>\n",
       "      <th>Short Sell</th>\n",
       "      <td>1.019725</td>\n",
       "      <td>1.000097</td>\n",
       "      <td>0.000043</td>\n",
       "    </tr>\n",
       "  </tbody>\n",
       "</table>\n",
       "</div>"
      ],
      "text/plain": [
       "              Overall Return  Mean Daily Return  Variance Daily Return\n",
       "Cannot Short        1.394494           1.001316               0.000044\n",
       "Market Value        1.337438           1.001150               0.000037\n",
       "Short Sell          1.019725           1.000097               0.000043"
      ]
     },
     "execution_count": 16,
     "metadata": {},
     "output_type": "execute_result"
    }
   ],
   "source": [
    "results = pd.DataFrame()\n",
    "portfolio_returns = portfolio.pct_change().iloc[1:] + 1\n",
    "results['Overall Return'] = portfolio.apply(lambda x: x[len(portfolio.index)-1]/100000.0)\n",
    "results['Mean Daily Return'] = portfolio_returns.mean()\n",
    "results['Variance Daily Return'] = portfolio_returns.var()\n",
    "results.sort_values(by='Overall Return', ascending=False,inplace=True)\n",
    "results.head()"
   ]
  },
  {
   "cell_type": "markdown",
   "metadata": {
    "collapsed": true
   },
   "source": [
    "Since the beginning of 2017, the stock market index has increased by 33.7%, which is towards the top of historical annual returns of the NASDAQ index (http://www.1stock1.com/1stock1_142.htm). We would normally expect the portfolio that has the ability to short sell to perform the best since it has the most flexibility. But 2017 was such an up year for the market, shorting the popular stocks I included in the portfolio was not a good idea, the variance of the short sell portfolio was even lower than the market index. The no-short portfolio out performed the market, but it is odd that the variance of that portfolio is so high considering we are trying to minimize variance. I would've expected the returns, and the variance to be slightly lower than the market."
   ]
  },
  {
   "cell_type": "markdown",
   "metadata": {},
   "source": [
    "### __Future Analysis and Next Steps__"
   ]
  },
  {
   "cell_type": "markdown",
   "metadata": {},
   "source": [
    "Just like every mathematical model, the markowitz model has it's flaws/assumptions. The biggest assumption of this model is that the past is truely indicitive of the future. Specifically asset returns and variance. This assumption shows up a lot, and I think is flawed especially when talking about stock prices. Another view of stock returns is that the only thing that matters is the stock's current price, along with other metrics and valuations of the company's financial statements (a.k.a the previous price movements are mute).        \n",
    "\n",
    "I think this assumption is a better representation of reality. For a future analysis, I think it would be good to try and apply the same optimization problem, but calculate *__r__* and $\\Sigma$ differently; and in a way that does not rely on historical data. I would try to use predictive modeling and machine learning based off of company financial statements, and external factors to predict the mean return and covariances of the stocks. This might require calculating returns on a quarterly level instead of every single day. This is fine, it will just reduce the number of observations of returns for each stock.      \n",
    "\n",
    "I also want to try to calculate the weights dynamically. Every single day (or quarter in the case above) there is new information that you could use to recalucate the weights for your portfolio. Every day/week/quarter you could recalculate your optimal combination of assests, and then buy and sell accordingly."
   ]
  }
 ],
 "metadata": {
  "kernelspec": {
   "display_name": "Python 2",
   "language": "python",
   "name": "python2"
  },
  "language_info": {
   "codemirror_mode": {
    "name": "ipython",
    "version": 2
   },
   "file_extension": ".py",
   "mimetype": "text/x-python",
   "name": "python",
   "nbconvert_exporter": "python",
   "pygments_lexer": "ipython2",
   "version": "2.7.13"
  }
 },
 "nbformat": 4,
 "nbformat_minor": 2
}
